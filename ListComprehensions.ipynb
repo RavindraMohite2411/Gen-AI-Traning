{
  "nbformat": 4,
  "nbformat_minor": 0,
  "metadata": {
    "colab": {
      "provenance": [],
      "authorship_tag": "ABX9TyOQK8/56NzjmmNoYpeTU6ts",
      "include_colab_link": true
    },
    "kernelspec": {
      "name": "python3",
      "display_name": "Python 3"
    },
    "language_info": {
      "name": "python"
    }
  },
  "cells": [
    {
      "cell_type": "markdown",
      "metadata": {
        "id": "view-in-github",
        "colab_type": "text"
      },
      "source": [
        "<a href=\"https://colab.research.google.com/github/RavindraMohite2411/Gen-AI-Traning/blob/main/ListComprehensions.ipynb\" target=\"_parent\"><img src=\"https://colab.research.google.com/assets/colab-badge.svg\" alt=\"Open In Colab\"/></a>"
      ]
    },
    {
      "cell_type": "code",
      "execution_count": null,
      "metadata": {
        "id": "x0wTs_Hsd8_o"
      },
      "outputs": [],
      "source": [
        "mystring = \"hello\""
      ]
    },
    {
      "cell_type": "code",
      "source": [
        "mylist = []\n",
        "\n",
        "for letter in mystring:\n",
        "  mylist.append(letter)"
      ],
      "metadata": {
        "id": "h5V0ihfHfjZ0"
      },
      "execution_count": null,
      "outputs": []
    },
    {
      "cell_type": "code",
      "source": [
        "mylist"
      ],
      "metadata": {
        "colab": {
          "base_uri": "https://localhost:8080/"
        },
        "id": "jSh8VbYhfxYy",
        "outputId": "3eabc740-f142-4be6-8df9-969e6678ecdd"
      },
      "execution_count": null,
      "outputs": [
        {
          "output_type": "execute_result",
          "data": {
            "text/plain": [
              "['h', 'e', 'l', 'l', 'o']"
            ]
          },
          "metadata": {},
          "execution_count": 3
        }
      ]
    },
    {
      "cell_type": "code",
      "source": [
        "mylist = [ letter for letter in mystring]"
      ],
      "metadata": {
        "id": "CQNPNMLggIn_"
      },
      "execution_count": null,
      "outputs": []
    },
    {
      "cell_type": "code",
      "source": [
        "mylist"
      ],
      "metadata": {
        "colab": {
          "base_uri": "https://localhost:8080/"
        },
        "id": "U2kfcu-Egcny",
        "outputId": "337ce938-2e3c-4e35-947c-d7708af7d62a"
      },
      "execution_count": null,
      "outputs": [
        {
          "output_type": "execute_result",
          "data": {
            "text/plain": [
              "['h', 'e', 'l', 'l', 'o']"
            ]
          },
          "metadata": {},
          "execution_count": 6
        }
      ]
    },
    {
      "cell_type": "code",
      "source": [
        "mylist = [x for x in range(0,11)]"
      ],
      "metadata": {
        "id": "pW_9etMzhJhA"
      },
      "execution_count": null,
      "outputs": []
    },
    {
      "cell_type": "code",
      "source": [
        "mylist"
      ],
      "metadata": {
        "colab": {
          "base_uri": "https://localhost:8080/"
        },
        "id": "J53Y9vmcip_z",
        "outputId": "e62f30c9-0a10-48d1-b367-0011f8e09127"
      },
      "execution_count": null,
      "outputs": [
        {
          "output_type": "execute_result",
          "data": {
            "text/plain": [
              "[0, 1, 2, 3, 4, 5, 6, 7, 8, 9, 10]"
            ]
          },
          "metadata": {},
          "execution_count": 8
        }
      ]
    },
    {
      "cell_type": "code",
      "source": [
        "mylist = [num **2 for num in range(0,11)]\n",
        "#Squre"
      ],
      "metadata": {
        "id": "9S79uhh8jRg8"
      },
      "execution_count": null,
      "outputs": []
    },
    {
      "cell_type": "code",
      "source": [
        "mylist\n"
      ],
      "metadata": {
        "colab": {
          "base_uri": "https://localhost:8080/"
        },
        "id": "9fn3fPpMkmop",
        "outputId": "4201b805-9f89-431b-8165-a06f2d31b399"
      },
      "execution_count": null,
      "outputs": [
        {
          "output_type": "execute_result",
          "data": {
            "text/plain": [
              "[0, 1, 4, 9, 16, 25, 36, 49, 64, 81, 100]"
            ]
          },
          "metadata": {},
          "execution_count": 10
        }
      ]
    },
    {
      "cell_type": "code",
      "source": [
        "mylist = [x for x in range(0,11) if(x%2==0)]"
      ],
      "metadata": {
        "id": "fUZBy8y9k5Zf"
      },
      "execution_count": null,
      "outputs": []
    },
    {
      "cell_type": "code",
      "source": [
        "mylist"
      ],
      "metadata": {
        "colab": {
          "base_uri": "https://localhost:8080/"
        },
        "id": "ZumcR4fIml_E",
        "outputId": "0283ee1b-e9a2-419b-fd3e-0f11cc099af5"
      },
      "execution_count": null,
      "outputs": [
        {
          "output_type": "execute_result",
          "data": {
            "text/plain": [
              "[0, 2, 4, 6, 8, 10]"
            ]
          },
          "metadata": {},
          "execution_count": 12
        }
      ]
    },
    {
      "cell_type": "code",
      "source": [
        "mylist = [x**2 for x in range(0,11) if(x%2==0)]"
      ],
      "metadata": {
        "id": "M-g_XkxdmpHU"
      },
      "execution_count": null,
      "outputs": []
    },
    {
      "cell_type": "code",
      "source": [
        "mylist"
      ],
      "metadata": {
        "colab": {
          "base_uri": "https://localhost:8080/"
        },
        "id": "HVGzOJySnJFJ",
        "outputId": "b6ab56c1-e439-46e0-c730-3301d971c12c"
      },
      "execution_count": null,
      "outputs": [
        {
          "output_type": "execute_result",
          "data": {
            "text/plain": [
              "[0, 4, 16, 36, 64, 100]"
            ]
          },
          "metadata": {},
          "execution_count": 17
        }
      ]
    },
    {
      "cell_type": "code",
      "source": [
        "celcious = [0,10,20,30,40,50,60,70,80,100]\n",
        "\n",
        "fahrenheit = [( (9/5)*temp +32) for temp in celcious]\n",
        "\n",
        "\n"
      ],
      "metadata": {
        "id": "FHAj9eW-nYH6"
      },
      "execution_count": null,
      "outputs": []
    },
    {
      "cell_type": "code",
      "source": [
        "fahrenheit"
      ],
      "metadata": {
        "colab": {
          "base_uri": "https://localhost:8080/"
        },
        "id": "0rws4WO2zzLL",
        "outputId": "a094f9d6-fffd-49c6-c9e9-e4b414516465"
      },
      "execution_count": null,
      "outputs": [
        {
          "output_type": "execute_result",
          "data": {
            "text/plain": [
              "[32.0, 50.0, 68.0, 86.0, 104.0, 122.0, 140.0, 158.0, 176.0, 212.0]"
            ]
          },
          "metadata": {},
          "execution_count": 23
        }
      ]
    },
    {
      "cell_type": "code",
      "source": [
        "fahrenheit = []\n",
        "\n",
        "for temp in celcious:\n",
        "  fahrenheit.append(( (9/5)*temp +32))"
      ],
      "metadata": {
        "id": "JXyGb7WLEuNS"
      },
      "execution_count": null,
      "outputs": []
    },
    {
      "cell_type": "code",
      "source": [
        "fahrenheit\n"
      ],
      "metadata": {
        "colab": {
          "base_uri": "https://localhost:8080/"
        },
        "id": "8Pvjr7-5Fauu",
        "outputId": "27863113-e3e4-4a1d-aa4f-3ad8ffe4df78"
      },
      "execution_count": null,
      "outputs": [
        {
          "output_type": "execute_result",
          "data": {
            "text/plain": [
              "[32.0, 50.0, 68.0, 86.0, 104.0, 122.0, 140.0, 158.0, 176.0, 212.0]"
            ]
          },
          "metadata": {},
          "execution_count": 27
        }
      ]
    },
    {
      "cell_type": "code",
      "source": [
        "results = [x if x%2==0 else 'ODD' for x in range(0,11)]"
      ],
      "metadata": {
        "id": "SZNszMRdFlmK"
      },
      "execution_count": null,
      "outputs": []
    },
    {
      "cell_type": "code",
      "source": [
        "results"
      ],
      "metadata": {
        "colab": {
          "base_uri": "https://localhost:8080/"
        },
        "id": "f4DmI_kcGewf",
        "outputId": "60390226-b559-4f1c-fa7b-5463d8c876a1"
      },
      "execution_count": null,
      "outputs": [
        {
          "output_type": "execute_result",
          "data": {
            "text/plain": [
              "[0, 'ODD', 2, 'ODD', 4, 'ODD', 6, 'ODD', 8, 'ODD', 10]"
            ]
          },
          "metadata": {},
          "execution_count": 29
        }
      ]
    },
    {
      "cell_type": "code",
      "source": [
        "results = [x if x%2==0 else 'ODD' for x in range(0,11)]"
      ],
      "metadata": {
        "id": "OXP3rZ4dG8gr"
      },
      "execution_count": null,
      "outputs": []
    },
    {
      "cell_type": "code",
      "source": [
        "mylist = []\n",
        "for x in [2,3,4]:\n",
        "    for y in [100,200,300]:\n",
        "        mylist.append(x*y)"
      ],
      "metadata": {
        "id": "vsnY75nUHtVW"
      },
      "execution_count": null,
      "outputs": []
    },
    {
      "cell_type": "code",
      "source": [
        "mylist"
      ],
      "metadata": {
        "colab": {
          "base_uri": "https://localhost:8080/"
        },
        "id": "bkIx37tDJAKz",
        "outputId": "e7ca56e0-ae3d-41ae-9455-96f353571aed"
      },
      "execution_count": null,
      "outputs": [
        {
          "output_type": "execute_result",
          "data": {
            "text/plain": [
              "[200, 400, 600, 300, 600, 900, 400, 800, 1200]"
            ]
          },
          "metadata": {},
          "execution_count": 32
        }
      ]
    },
    {
      "cell_type": "code",
      "source": [
        "mylist = [x*y for x in [2,4,3] for y in [300,123,213]]"
      ],
      "metadata": {
        "id": "JjDfI-WKKHcx"
      },
      "execution_count": null,
      "outputs": []
    },
    {
      "cell_type": "code",
      "source": [
        "mylist"
      ],
      "metadata": {
        "colab": {
          "base_uri": "https://localhost:8080/"
        },
        "id": "vIxVJxBuLehb",
        "outputId": "5783567a-f38c-44a4-ad29-6ed494675654"
      },
      "execution_count": null,
      "outputs": [
        {
          "output_type": "execute_result",
          "data": {
            "text/plain": [
              "[600, 246, 426, 1200, 492, 852, 900, 369, 639]"
            ]
          },
          "metadata": {},
          "execution_count": 34
        }
      ]
    },
    {
      "cell_type": "code",
      "source": [],
      "metadata": {
        "id": "K-0tfGL5L-X-"
      },
      "execution_count": null,
      "outputs": []
    }
  ]
}