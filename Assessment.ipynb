{
  "nbformat": 4,
  "nbformat_minor": 0,
  "metadata": {
    "colab": {
      "provenance": [],
      "authorship_tag": "ABX9TyMeQqPEgwINcuWsa44FICv1",
      "include_colab_link": true
    },
    "kernelspec": {
      "name": "python3",
      "display_name": "Python 3"
    },
    "language_info": {
      "name": "python"
    }
  },
  "cells": [
    {
      "cell_type": "markdown",
      "metadata": {
        "id": "view-in-github",
        "colab_type": "text"
      },
      "source": [
        "<a href=\"https://colab.research.google.com/github/RavindraMohite2411/Gen-AI-Traning/blob/main/Assessment.ipynb\" target=\"_parent\"><img src=\"https://colab.research.google.com/assets/colab-badge.svg\" alt=\"Open In Colab\"/></a>"
      ]
    },
    {
      "cell_type": "code",
      "execution_count": 9,
      "metadata": {
        "id": "GJU9j_92oS4N"
      },
      "outputs": [],
      "source": [
        "st = ' Sam print the words that start with s in this sentense'\n",
        "#st = 'print the words that start with s'for,split() and if"
      ]
    },
    {
      "cell_type": "code",
      "source": [
        "st.split()"
      ],
      "metadata": {
        "colab": {
          "base_uri": "https://localhost:8080/"
        },
        "id": "lNtlweO5qgpm",
        "outputId": "0f125aee-5303-48ef-9a34-f57c7f15d655"
      },
      "execution_count": 10,
      "outputs": [
        {
          "output_type": "execute_result",
          "data": {
            "text/plain": [
              "['Sam',\n",
              " 'print',\n",
              " 'the',\n",
              " 'words',\n",
              " 'that',\n",
              " 'start',\n",
              " 'with',\n",
              " 's',\n",
              " 'in',\n",
              " 'this',\n",
              " 'sentense']"
            ]
          },
          "metadata": {},
          "execution_count": 10
        }
      ]
    },
    {
      "cell_type": "code",
      "source": [
        "st"
      ],
      "metadata": {
        "colab": {
          "base_uri": "https://localhost:8080/",
          "height": 36
        },
        "id": "KvnXDOlrrBGg",
        "outputId": "755cbf27-1188-46cb-9e82-ca2796acc9c7"
      },
      "execution_count": 11,
      "outputs": [
        {
          "output_type": "execute_result",
          "data": {
            "text/plain": [
              "' Sam print the words that start with s in this sentense'"
            ],
            "application/vnd.google.colaboratory.intrinsic+json": {
              "type": "string"
            }
          },
          "metadata": {},
          "execution_count": 11
        }
      ]
    },
    {
      "cell_type": "code",
      "source": [
        "for word in st.split():\n",
        "  print(word)"
      ],
      "metadata": {
        "colab": {
          "base_uri": "https://localhost:8080/"
        },
        "id": "tOZEetLvrVvz",
        "outputId": "ad583eac-7103-4d87-b130-7f59a1d609f6"
      },
      "execution_count": 12,
      "outputs": [
        {
          "output_type": "stream",
          "name": "stdout",
          "text": [
            "Sam\n",
            "print\n",
            "the\n",
            "words\n",
            "that\n",
            "start\n",
            "with\n",
            "s\n",
            "in\n",
            "this\n",
            "sentense\n"
          ]
        }
      ]
    },
    {
      "cell_type": "code",
      "source": [
        "for word in st.split():\n",
        "  if word[0] == 's':\n",
        "      print(word)"
      ],
      "metadata": {
        "colab": {
          "base_uri": "https://localhost:8080/"
        },
        "id": "s0igtcaGrsa2",
        "outputId": "db65b0bb-8462-4e60-f56a-d3ca2fe88f8d"
      },
      "execution_count": 13,
      "outputs": [
        {
          "output_type": "stream",
          "name": "stdout",
          "text": [
            "start\n",
            "s\n",
            "sentense\n"
          ]
        }
      ]
    },
    {
      "cell_type": "code",
      "source": [
        "#compare lowercase\n",
        "for word in st.split():\n",
        "  if word[0].lower() == 's':\n",
        "      print(word)"
      ],
      "metadata": {
        "colab": {
          "base_uri": "https://localhost:8080/"
        },
        "id": "1vXCWbdOsM3Y",
        "outputId": "537d8365-ddb7-472e-8bdb-72c04e0e25f2"
      },
      "execution_count": 14,
      "outputs": [
        {
          "output_type": "stream",
          "name": "stdout",
          "text": [
            "Sam\n",
            "start\n",
            "s\n",
            "sentense\n"
          ]
        }
      ]
    },
    {
      "cell_type": "code",
      "source": [
        "for word in st.split():\n",
        "  if word[0].lower() == 's' or word[0]=='S':\n",
        "      print(word)"
      ],
      "metadata": {
        "colab": {
          "base_uri": "https://localhost:8080/"
        },
        "id": "OJr349uutA0_",
        "outputId": "aa1e2055-dd40-42b9-c336-d1031215a52c"
      },
      "execution_count": 16,
      "outputs": [
        {
          "output_type": "stream",
          "name": "stdout",
          "text": [
            "Sam\n",
            "start\n",
            "s\n",
            "sentense\n"
          ]
        }
      ]
    },
    {
      "cell_type": "code",
      "source": [
        "#use range() to print all the even numbers from 0 to 10 (step size:2)\n",
        "list(range(0,11,2))"
      ],
      "metadata": {
        "colab": {
          "base_uri": "https://localhost:8080/"
        },
        "id": "vATGhidXtUPW",
        "outputId": "f739997e-fc79-43ae-e927-d9611b16361e"
      },
      "execution_count": 17,
      "outputs": [
        {
          "output_type": "execute_result",
          "data": {
            "text/plain": [
              "[0, 2, 4, 6, 8, 10]"
            ]
          },
          "metadata": {},
          "execution_count": 17
        }
      ]
    },
    {
      "cell_type": "code",
      "source": [
        "for num in range(0,11,2):\n",
        "  print(num)"
      ],
      "metadata": {
        "colab": {
          "base_uri": "https://localhost:8080/"
        },
        "id": "sANE9g11tzay",
        "outputId": "1c61de3a-1ab7-4073-fe20-24b4c800ac51"
      },
      "execution_count": 18,
      "outputs": [
        {
          "output_type": "stream",
          "name": "stdout",
          "text": [
            "0\n",
            "2\n",
            "4\n",
            "6\n",
            "8\n",
            "10\n"
          ]
        }
      ]
    },
    {
      "cell_type": "code",
      "source": [
        "#use a list Comprehension to create a list of all numbers between 1 and 50 that are divisible by 3\n",
        "[x for x in range(1,51) if x%3 == 0]"
      ],
      "metadata": {
        "colab": {
          "base_uri": "https://localhost:8080/"
        },
        "id": "lgw4N2YtvAlS",
        "outputId": "45ba105d-a480-44c5-a857-df8a62f45c36"
      },
      "execution_count": 19,
      "outputs": [
        {
          "output_type": "execute_result",
          "data": {
            "text/plain": [
              "[3, 6, 9, 12, 15, 18, 21, 24, 27, 30, 33, 36, 39, 42, 45, 48]"
            ]
          },
          "metadata": {},
          "execution_count": 19
        }
      ]
    },
    {
      "cell_type": "code",
      "source": [
        "#print even no of letters\n",
        "st = \"Print every word in this sentense that has an even number\""
      ],
      "metadata": {
        "id": "c5t9ZwXfxQg5"
      },
      "execution_count": 20,
      "outputs": []
    },
    {
      "cell_type": "code",
      "source": [
        "for word in st.split():\n",
        "    if len(word) % 2 == 0:\n",
        "        print(word+ ' is even')"
      ],
      "metadata": {
        "colab": {
          "base_uri": "https://localhost:8080/"
        },
        "id": "fwkaBg58xtC9",
        "outputId": "a89ffcc2-70c4-48fa-dd01-1308c3bd8799"
      },
      "execution_count": 21,
      "outputs": [
        {
          "output_type": "stream",
          "name": "stdout",
          "text": [
            "word is even\n",
            "in is even\n",
            "this is even\n",
            "sentense is even\n",
            "that is even\n",
            "an is even\n",
            "even is even\n",
            "number is even\n"
          ]
        }
      ]
    },
    {
      "cell_type": "code",
      "source": [],
      "metadata": {
        "id": "Kj-FyUxwyizR"
      },
      "execution_count": null,
      "outputs": []
    },
    {
      "cell_type": "code",
      "source": [
        "#write a program that prints the integers from 1 to 100. but for multiple of three print \"Fizz\" instead of the number,\n",
        "#and multiples of five print \"Buzz\" for numbers which are multiple of both three and five print \"FizzBuzz\"\n",
        "for num in range(1,101):\n",
        "    if num%3 == 0 and num % 5 == 0:\n",
        "        print('FizzBuzz')\n",
        "    elif num % 3 == 0:\n",
        "        print('Fizz')\n",
        "    elif num % 5 == 0:\n",
        "        print('Bizz')\n",
        "    else:\n",
        "        print(num)\n"
      ],
      "metadata": {
        "id": "UNSK6ZuPwg3F",
        "colab": {
          "base_uri": "https://localhost:8080/"
        },
        "outputId": "7ff7c1f3-6445-4251-c0c7-6e767ddba8d8"
      },
      "execution_count": 22,
      "outputs": [
        {
          "output_type": "stream",
          "name": "stdout",
          "text": [
            "1\n",
            "2\n",
            "Fizz\n",
            "4\n",
            "Bizz\n",
            "Fizz\n",
            "7\n",
            "8\n",
            "Fizz\n",
            "Bizz\n",
            "11\n",
            "Fizz\n",
            "13\n",
            "14\n",
            "FizzBuzz\n",
            "16\n",
            "17\n",
            "Fizz\n",
            "19\n",
            "Bizz\n",
            "Fizz\n",
            "22\n",
            "23\n",
            "Fizz\n",
            "Bizz\n",
            "26\n",
            "Fizz\n",
            "28\n",
            "29\n",
            "FizzBuzz\n",
            "31\n",
            "32\n",
            "Fizz\n",
            "34\n",
            "Bizz\n",
            "Fizz\n",
            "37\n",
            "38\n",
            "Fizz\n",
            "Bizz\n",
            "41\n",
            "Fizz\n",
            "43\n",
            "44\n",
            "FizzBuzz\n",
            "46\n",
            "47\n",
            "Fizz\n",
            "49\n",
            "Bizz\n",
            "Fizz\n",
            "52\n",
            "53\n",
            "Fizz\n",
            "Bizz\n",
            "56\n",
            "Fizz\n",
            "58\n",
            "59\n",
            "FizzBuzz\n",
            "61\n",
            "62\n",
            "Fizz\n",
            "64\n",
            "Bizz\n",
            "Fizz\n",
            "67\n",
            "68\n",
            "Fizz\n",
            "Bizz\n",
            "71\n",
            "Fizz\n",
            "73\n",
            "74\n",
            "FizzBuzz\n",
            "76\n",
            "77\n",
            "Fizz\n",
            "79\n",
            "Bizz\n",
            "Fizz\n",
            "82\n",
            "83\n",
            "Fizz\n",
            "Bizz\n",
            "86\n",
            "Fizz\n",
            "88\n",
            "89\n",
            "FizzBuzz\n",
            "91\n",
            "92\n",
            "Fizz\n",
            "94\n",
            "Bizz\n",
            "Fizz\n",
            "97\n",
            "98\n",
            "Fizz\n",
            "Bizz\n"
          ]
        }
      ]
    },
    {
      "cell_type": "code",
      "source": [
        "st = 'Create a list of the first letters of every word in this string'"
      ],
      "metadata": {
        "id": "xPxqbGajz7yN"
      },
      "execution_count": 23,
      "outputs": []
    },
    {
      "cell_type": "code",
      "source": [
        "[word for word in st.split()]"
      ],
      "metadata": {
        "colab": {
          "base_uri": "https://localhost:8080/"
        },
        "id": "7CcWulWl0M5w",
        "outputId": "818ee91b-697f-4c9d-8daf-0328226bff35"
      },
      "execution_count": 24,
      "outputs": [
        {
          "output_type": "execute_result",
          "data": {
            "text/plain": [
              "['Create',\n",
              " 'a',\n",
              " 'list',\n",
              " 'of',\n",
              " 'the',\n",
              " 'first',\n",
              " 'letters',\n",
              " 'of',\n",
              " 'every',\n",
              " 'word',\n",
              " 'in',\n",
              " 'this',\n",
              " 'string']"
            ]
          },
          "metadata": {},
          "execution_count": 24
        }
      ]
    },
    {
      "cell_type": "code",
      "source": [
        "[word[0] for word in st.split()]"
      ],
      "metadata": {
        "colab": {
          "base_uri": "https://localhost:8080/"
        },
        "id": "XBebk8R31qqF",
        "outputId": "a16c08c2-be98-4fee-e9f3-99743a9ff4ed"
      },
      "execution_count": 25,
      "outputs": [
        {
          "output_type": "execute_result",
          "data": {
            "text/plain": [
              "['C', 'a', 'l', 'o', 't', 'f', 'l', 'o', 'e', 'w', 'i', 't', 's']"
            ]
          },
          "metadata": {},
          "execution_count": 25
        }
      ]
    }
  ]
}