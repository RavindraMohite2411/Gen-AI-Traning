{
  "nbformat": 4,
  "nbformat_minor": 0,
  "metadata": {
    "colab": {
      "provenance": [],
      "authorship_tag": "ABX9TyNF54qgD/+hXLgy9OzOmvw4",
      "include_colab_link": true
    },
    "kernelspec": {
      "name": "python3",
      "display_name": "Python 3"
    },
    "language_info": {
      "name": "python"
    }
  },
  "cells": [
    {
      "cell_type": "markdown",
      "metadata": {
        "id": "view-in-github",
        "colab_type": "text"
      },
      "source": [
        "<a href=\"https://colab.research.google.com/github/RavindraMohite2411/Gen-AI-Traning/blob/main/Operators.ipynb\" target=\"_parent\"><img src=\"https://colab.research.google.com/assets/colab-badge.svg\" alt=\"Open In Colab\"/></a>"
      ]
    },
    {
      "cell_type": "code",
      "execution_count": 1,
      "metadata": {
        "colab": {
          "base_uri": "https://localhost:8080/"
        },
        "id": "MBvUy4EenbYq",
        "outputId": "c152600f-2937-472e-99ca-352a376845db"
      },
      "outputs": [
        {
          "output_type": "stream",
          "name": "stdout",
          "text": [
            "At index 1 the letter is a\n",
            "At index 2 the letter is b\n",
            "At index 3 the letter is c\n",
            "At index 4 the letter is d\n",
            "At index 5 the letter is e\n"
          ]
        }
      ],
      "source": [
        "index_count = 1\n",
        "for letter in 'abcde':\n",
        "    print('At index {} the letter is {}'.format(index_count,letter))\n",
        "    index_count += 1"
      ]
    }
  ]
}