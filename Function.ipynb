{
  "nbformat": 4,
  "nbformat_minor": 0,
  "metadata": {
    "colab": {
      "provenance": [],
      "authorship_tag": "ABX9TyNX6Il0nzMcGpmL8d/2dyMB",
      "include_colab_link": true
    },
    "kernelspec": {
      "name": "python3",
      "display_name": "Python 3"
    },
    "language_info": {
      "name": "python"
    }
  },
  "cells": [
    {
      "cell_type": "markdown",
      "metadata": {
        "id": "view-in-github",
        "colab_type": "text"
      },
      "source": [
        "<a href=\"https://colab.research.google.com/github/RavindraMohite2411/Gen-AI-Traning/blob/main/Function.ipynb\" target=\"_parent\"><img src=\"https://colab.research.google.com/assets/colab-badge.svg\" alt=\"Open In Colab\"/></a>"
      ]
    },
    {
      "cell_type": "code",
      "execution_count": null,
      "metadata": {
        "colab": {
          "base_uri": "https://localhost:8080/"
        },
        "id": "137PTp233U7h",
        "outputId": "f6b076d1-1166-4bd5-86d4-d2cfdb93fc1b"
      },
      "outputs": [
        {
          "output_type": "stream",
          "name": "stdout",
          "text": [
            "Ravi Mohite\n"
          ]
        }
      ],
      "source": [
        "def myfunction(fname):\n",
        "  print(fname + \" Mohite\")\n",
        "myfunction(\"Ravi\")"
      ]
    },
    {
      "cell_type": "code",
      "source": [
        "def myfunction(fname):\n",
        "  print(fname + \" Mohite\")\n",
        "\n",
        "myfunction(\"Ravindra\")\n",
        "myfunction(\"Sampatrao\")\n",
        "myfunction(\"mohite\")\n"
      ],
      "metadata": {
        "id": "jUYZ-PP44Mcj",
        "colab": {
          "base_uri": "https://localhost:8080/"
        },
        "outputId": "3f3739b7-437d-47a9-c827-aade2609eb6b"
      },
      "execution_count": null,
      "outputs": [
        {
          "output_type": "stream",
          "name": "stdout",
          "text": [
            "Ravindra Mohite\n",
            "Sampatrao Mohite\n",
            "mohite Mohite\n"
          ]
        }
      ]
    },
    {
      "cell_type": "code",
      "source": [
        "def myfunction(fname, lname):\n",
        "  print(fname + \" \" + lname)\n",
        "myfunction(\"Ravi\", \"Mohite\")\n"
      ],
      "metadata": {
        "colab": {
          "base_uri": "https://localhost:8080/"
        },
        "id": "tO9cMZ3oHyFR",
        "outputId": "7115e96c-ba4e-4e56-c030-37a32580c70f"
      },
      "execution_count": null,
      "outputs": [
        {
          "output_type": "stream",
          "name": "stdout",
          "text": [
            "Ravi Mohite\n"
          ]
        }
      ]
    },
    {
      "cell_type": "code",
      "source": [
        "def myfunction(*kids):\n",
        "   print(\"The youngest child is \" + kids[2])\n",
        "myfunction(\"Emil\", \"Tobias\", \"Linus\")\n"
      ],
      "metadata": {
        "colab": {
          "base_uri": "https://localhost:8080/"
        },
        "id": "o7dqmp9UNRnD",
        "outputId": "f24e722e-ecd1-433f-d391-21d18a3e0248"
      },
      "execution_count": null,
      "outputs": [
        {
          "output_type": "stream",
          "name": "stdout",
          "text": [
            "The youngest child is Linus\n"
          ]
        }
      ]
    },
    {
      "cell_type": "code",
      "source": [
        "def my_function(child3, child2, child1):\n",
        "  print(\"The youngest child is \" + child3)\n",
        "\n",
        "my_function(child1 = \"Emil\", child2 = \"Tobias\", child3 = \"Linus\")"
      ],
      "metadata": {
        "colab": {
          "base_uri": "https://localhost:8080/"
        },
        "id": "kH2goh5ZOEcm",
        "outputId": "b9299b35-f20e-4372-e0ae-6be7d6e5dfec"
      },
      "execution_count": null,
      "outputs": [
        {
          "output_type": "stream",
          "name": "stdout",
          "text": [
            "The youngest child is Linus\n"
          ]
        }
      ]
    },
    {
      "cell_type": "code",
      "source": [
        "#If the number of keyword arguments is unknown, add a double ** before the parameter name:\n",
        "def myfunction(**kid):\n",
        "  print(\"His last name is \" + kid[\"lname\"])\n",
        "myfunction(fname = \"Ravi\", lname = \"Mohite\")"
      ],
      "metadata": {
        "colab": {
          "base_uri": "https://localhost:8080/"
        },
        "id": "79ZzISIbOa1V",
        "outputId": "13c03590-8f05-4d4b-8d60-906d92bf8271"
      },
      "execution_count": null,
      "outputs": [
        {
          "output_type": "stream",
          "name": "stdout",
          "text": [
            "His last name is Mohite\n"
          ]
        }
      ]
    },
    {
      "cell_type": "code",
      "source": [
        "def myfunction(country = \"norway\"):\n",
        "  print(\"I m from \" + country)\n",
        "\n",
        "myfunction(\"Sweden\")\n",
        "myfunction(\"Itly\")\n",
        "myfunction()\n",
        "myfunction(\"Brazil\")\n"
      ],
      "metadata": {
        "colab": {
          "base_uri": "https://localhost:8080/"
        },
        "id": "8W5LZRIVTqZ6",
        "outputId": "facbcc9a-2319-40a1-f2ae-b5c7b26bbe01"
      },
      "execution_count": null,
      "outputs": [
        {
          "output_type": "stream",
          "name": "stdout",
          "text": [
            "I m from Sweden\n",
            "I m from Itly\n",
            "I m from norway\n",
            "I m from Brazil\n"
          ]
        }
      ]
    },
    {
      "cell_type": "code",
      "source": [
        "#Passing a List as an Argument\n",
        "#You can send any data types of argument to a function (string, number, list, dictionary etc.), and it will be treated as the same data type inside the function.\n",
        "\n",
        "#E.g. if you send a List as an argument, it will still be a List when it reaches the function:\n",
        "def myfunction(food):\n",
        "  for x in food:\n",
        "    print(x)\n",
        "\n",
        "fruits = [\"apple\", \"banana\", \"cherry\"]\n",
        "\n",
        "myfunction(fruits)"
      ],
      "metadata": {
        "colab": {
          "base_uri": "https://localhost:8080/"
        },
        "id": "tkshHQCMVmVv",
        "outputId": "d265bfc2-61e0-4862-93ce-35acb4b985fc"
      },
      "execution_count": null,
      "outputs": [
        {
          "output_type": "stream",
          "name": "stdout",
          "text": [
            "apple\n",
            "banana\n",
            "cherry\n"
          ]
        }
      ]
    },
    {
      "cell_type": "code",
      "source": [
        "#To let a function return a value, use the return statement:\n",
        "def my_function(x):\n",
        "  return 5 * x\n",
        "\n",
        "print(my_function(3))\n",
        "print(my_function(5))\n",
        "print(my_function(9))\n"
      ],
      "metadata": {
        "colab": {
          "base_uri": "https://localhost:8080/"
        },
        "id": "ri9CbQ0gZ4lG",
        "outputId": "432494a2-c028-4fff-b460-a5fb8b00fefe"
      },
      "execution_count": null,
      "outputs": [
        {
          "output_type": "stream",
          "name": "stdout",
          "text": [
            "15\n",
            "25\n",
            "45\n"
          ]
        }
      ]
    },
    {
      "cell_type": "code",
      "source": [
        "#You can specify that a function can have ONLY positional arguments, or ONLY keyword arguments.\n",
        "\n",
        "#To specify that a function can have only positional arguments, add , / after the arguments:\n",
        "def myfunction(x, /):\n",
        "   print(x)\n",
        "myfunction(3)"
      ],
      "metadata": {
        "colab": {
          "base_uri": "https://localhost:8080/"
        },
        "id": "gKxvIL2Yb-6u",
        "outputId": "0e0c8726-8ff1-4722-d6de-c22574227235"
      },
      "execution_count": null,
      "outputs": [
        {
          "output_type": "stream",
          "name": "stdout",
          "text": [
            "3\n"
          ]
        }
      ]
    },
    {
      "cell_type": "code",
      "source": [
        "#Without the , / you are actually allowed to use keyword arguments even if the function expects positional arguments:\n",
        "def myfunction(x):\n",
        "  print(x)\n",
        "myfunction(x=3)"
      ],
      "metadata": {
        "colab": {
          "base_uri": "https://localhost:8080/"
        },
        "id": "6p-uO1QddbFZ",
        "outputId": "bca08e4f-686b-408c-b24c-2fe4565cbaa9"
      },
      "execution_count": null,
      "outputs": [
        {
          "output_type": "stream",
          "name": "stdout",
          "text": [
            "3\n"
          ]
        }
      ]
    },
    {
      "cell_type": "code",
      "source": [
        "def my_function(x, /):\n",
        "  print(x)\n",
        "\n",
        "my_function(x = 3)"
      ],
      "metadata": {
        "colab": {
          "base_uri": "https://localhost:8080/",
          "height": 176
        },
        "id": "yRrp_25SdwmQ",
        "outputId": "7d99091d-4185-42f7-d085-f6a10ee9018d"
      },
      "execution_count": null,
      "outputs": [
        {
          "output_type": "error",
          "ename": "TypeError",
          "evalue": "my_function() got some positional-only arguments passed as keyword arguments: 'x'",
          "traceback": [
            "\u001b[0;31m---------------------------------------------------------------------------\u001b[0m",
            "\u001b[0;31mTypeError\u001b[0m                                 Traceback (most recent call last)",
            "\u001b[0;32m<ipython-input-15-403196941e2c>\u001b[0m in \u001b[0;36m<cell line: 4>\u001b[0;34m()\u001b[0m\n\u001b[1;32m      2\u001b[0m   \u001b[0mprint\u001b[0m\u001b[0;34m(\u001b[0m\u001b[0mx\u001b[0m\u001b[0;34m)\u001b[0m\u001b[0;34m\u001b[0m\u001b[0;34m\u001b[0m\u001b[0m\n\u001b[1;32m      3\u001b[0m \u001b[0;34m\u001b[0m\u001b[0m\n\u001b[0;32m----> 4\u001b[0;31m \u001b[0mmy_function\u001b[0m\u001b[0;34m(\u001b[0m\u001b[0mx\u001b[0m \u001b[0;34m=\u001b[0m \u001b[0;36m3\u001b[0m\u001b[0;34m)\u001b[0m\u001b[0;34m\u001b[0m\u001b[0;34m\u001b[0m\u001b[0m\n\u001b[0m",
            "\u001b[0;31mTypeError\u001b[0m: my_function() got some positional-only arguments passed as keyword arguments: 'x'"
          ]
        }
      ]
    },
    {
      "cell_type": "code",
      "source": [
        "#To specify that a function can have only keyword arguments, add *, before the arguments:\n",
        "def myfunction(*, x):\n",
        "  print(x)\n",
        "myfunction(x = 3)"
      ],
      "metadata": {
        "colab": {
          "base_uri": "https://localhost:8080/"
        },
        "id": "zywdr4I7fOTe",
        "outputId": "cc340038-4b14-4629-ead0-e008574e6706"
      },
      "execution_count": null,
      "outputs": [
        {
          "output_type": "stream",
          "name": "stdout",
          "text": [
            "3\n"
          ]
        }
      ]
    },
    {
      "cell_type": "code",
      "source": [
        "#Without the *, you are allowed to use positionale arguments even if the function expects keyword arguments:\n",
        "def myfunction(x):\n",
        "  print(x)\n",
        "myfunction(3)"
      ],
      "metadata": {
        "colab": {
          "base_uri": "https://localhost:8080/"
        },
        "id": "fcODfsXwg80W",
        "outputId": "b238bac1-64fa-435f-952a-e2836a690b7a"
      },
      "execution_count": null,
      "outputs": [
        {
          "output_type": "stream",
          "name": "stdout",
          "text": [
            "3\n"
          ]
        }
      ]
    },
    {
      "cell_type": "code",
      "source": [
        "#You can combine the two argument types in the same function.\n",
        "\n",
        "#Any argument before the / , are positional-only, and any argument after the *, are keyword-only.\n",
        "def myfunction(a,b,/,*,c,d):\n",
        "  print(a + b + c + d)\n",
        "myfunction(4,5, c = 7, d = 8)"
      ],
      "metadata": {
        "colab": {
          "base_uri": "https://localhost:8080/"
        },
        "id": "DX8gSLOQhtP7",
        "outputId": "ae7f62aa-c567-49e7-e946-ce67b1d05498"
      },
      "execution_count": null,
      "outputs": [
        {
          "output_type": "stream",
          "name": "stdout",
          "text": [
            "24\n"
          ]
        }
      ]
    },
    {
      "cell_type": "code",
      "source": [
        "def trirecursion(k):\n",
        "   if(k > 0):\n",
        "     result = k + trirecursion(k - 1)\n",
        "     print(result)\n",
        "   else:\n",
        "     result = 0\n",
        "   return result\n",
        "print(\"\\n \\nrecursion Example returns\")\n",
        "trirecursion(6)"
      ],
      "metadata": {
        "colab": {
          "base_uri": "https://localhost:8080/"
        },
        "id": "KVDY02cSjZMv",
        "outputId": "faa4a8da-117b-4769-8a3b-c3a44dfab6af"
      },
      "execution_count": null,
      "outputs": [
        {
          "output_type": "stream",
          "name": "stdout",
          "text": [
            "\n",
            " \n",
            "recursion Example returns\n",
            "1\n",
            "3\n",
            "6\n",
            "10\n",
            "15\n",
            "21\n"
          ]
        },
        {
          "output_type": "execute_result",
          "data": {
            "text/plain": [
              "21"
            ]
          },
          "metadata": {},
          "execution_count": 20
        }
      ]
    },
    {
      "cell_type": "code",
      "source": [
        "#A lambda function is a small anonymous function.\n",
        "\n",
        "#A lambda function can take any number of arguments, but can only have one expression.\n",
        "x = lambda a : a + 10\n",
        "print(x(5))\n",
        "\n"
      ],
      "metadata": {
        "colab": {
          "base_uri": "https://localhost:8080/"
        },
        "id": "m5a889wF-lVS",
        "outputId": "30ad3635-aaae-466b-fbf6-bcd5d59641f2"
      },
      "execution_count": null,
      "outputs": [
        {
          "output_type": "stream",
          "name": "stdout",
          "text": [
            "15\n"
          ]
        }
      ]
    },
    {
      "cell_type": "code",
      "source": [
        "x = lambda a, b : a * b\n",
        "print(x(5,6))"
      ],
      "metadata": {
        "colab": {
          "base_uri": "https://localhost:8080/"
        },
        "id": "phQSoldAA1d0",
        "outputId": "c1f56e07-551f-4015-8846-1c5256f481a6"
      },
      "execution_count": null,
      "outputs": [
        {
          "output_type": "stream",
          "name": "stdout",
          "text": [
            "30\n"
          ]
        }
      ]
    },
    {
      "cell_type": "code",
      "source": [
        "x = lambda a,b,c : a + b + c\n",
        "print(x(5,6,7))"
      ],
      "metadata": {
        "colab": {
          "base_uri": "https://localhost:8080/"
        },
        "id": "ZRO0h5WwBfEz",
        "outputId": "b9fec670-edb7-49b8-a2a5-daf91746c19a"
      },
      "execution_count": null,
      "outputs": [
        {
          "output_type": "stream",
          "name": "stdout",
          "text": [
            "18\n"
          ]
        }
      ]
    },
    {
      "cell_type": "code",
      "source": [
        "#The power of lambda is better shown when you use them as an anonymous function inside another function.\n",
        "\n",
        "#Say you have a function definition that takes one argument, and that argument will be multiplied with an unknown number:\n",
        "def myfunction(n):\n",
        "  return lambda a: a * n"
      ],
      "metadata": {
        "id": "AviyBIzmCquW"
      },
      "execution_count": null,
      "outputs": []
    },
    {
      "cell_type": "code",
      "source": [
        "def myfunc(n):\n",
        "  return lambda a : a * n\n",
        "\n",
        "mydoubler = myfunc(2)\n",
        "\n",
        "print(mydoubler(11))"
      ],
      "metadata": {
        "colab": {
          "base_uri": "https://localhost:8080/"
        },
        "id": "l3DUaMHSEMON",
        "outputId": "be65e6ce-b7bb-466f-b6e6-b66363a12043"
      },
      "execution_count": null,
      "outputs": [
        {
          "output_type": "stream",
          "name": "stdout",
          "text": [
            "22\n"
          ]
        }
      ]
    },
    {
      "cell_type": "code",
      "source": [
        "def myfunc(n):\n",
        "  return lambda a: a * n\n",
        "\n",
        "mytripler = myfunc(3)\n",
        "\n",
        "print(mytripler(11))\n"
      ],
      "metadata": {
        "colab": {
          "base_uri": "https://localhost:8080/"
        },
        "id": "F-ZRELDfE4Jl",
        "outputId": "cc4f92be-a32a-47dc-ce56-b7c390af02ec"
      },
      "execution_count": null,
      "outputs": [
        {
          "output_type": "stream",
          "name": "stdout",
          "text": [
            "33\n"
          ]
        }
      ]
    },
    {
      "cell_type": "code",
      "source": [
        "#make the both statements in same program\n",
        "def myfunc(n):\n",
        "  return lambda a : a * n\n",
        "\n",
        "mydoubler = myfunc(2)\n",
        "mytripler = myfunc(3)\n",
        "\n",
        "print(mydoubler(11))\n",
        "print(mytripler(11))"
      ],
      "metadata": {
        "colab": {
          "base_uri": "https://localhost:8080/"
        },
        "id": "0MhqRbVWF3iB",
        "outputId": "5b489b1a-ceb1-491f-f804-dfcf69a84ea8"
      },
      "execution_count": null,
      "outputs": [
        {
          "output_type": "stream",
          "name": "stdout",
          "text": [
            "22\n",
            "33\n"
          ]
        }
      ]
    },
    {
      "cell_type": "code",
      "source": [],
      "metadata": {
        "id": "eeepwcFwNPHE"
      },
      "execution_count": null,
      "outputs": []
    }
  ]
}